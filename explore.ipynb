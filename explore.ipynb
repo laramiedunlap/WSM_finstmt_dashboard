{
 "cells": [
  {
   "cell_type": "code",
   "execution_count": null,
   "metadata": {},
   "outputs": [],
   "source": [
    "import pandas as pd\n",
    "import openpyxl"
   ]
  },
  {
   "cell_type": "code",
   "execution_count": null,
   "metadata": {},
   "outputs": [],
   "source": [
    "wb = openpyxl.load_workbook('WSM_FinancialStmt_evolution_copy.xlsx', data_only=True)\n",
    "\n",
    "corpus = {}\n",
    "all_months = wb.sheetnames\n",
    "for month in all_months:    \n",
    "    sheet = wb[month]\n",
    "    corpus[month] = {}\n",
    "    create_category = True\n",
    "    for cell in sheet['A']:\n",
    "        if not cell.value:\n",
    "            continue \n",
    "\n",
    "        b_cell = sheet.cell(row=cell.row, column=2)\n",
    "\n",
    "        if b_cell.value is not None:\n",
    "            value = b_cell.value\n",
    "            corpus[month][current_category][cell.value] = value\n",
    "            if not create_category:\n",
    "                create_category = True\n",
    "        else:\n",
    "            if create_category:\n",
    "                if str(cell.value).isupper():\n",
    "                    current_category = cell.value\n",
    "                    corpus[month][current_category] = {}\n",
    "                    create_category = False\n",
    "    "
   ]
  },
  {
   "cell_type": "code",
   "execution_count": null,
   "metadata": {},
   "outputs": [],
   "source": [
    "import datetime\n",
    "\n",
    "corpus_with_dates = {}\n",
    "\n",
    "for month in corpus:\n",
    "    month_str = datetime.datetime.strptime(month.split('-')[1], \"%B\").strftime(\"%b\")\n",
    "    month_year = month_str+'-2022'\n",
    "    datetime.datetime.strptime(month_year, '%b-%Y')\n",
    "    corpus_with_dates[month_year] = corpus[month]"
   ]
  },
  {
   "cell_type": "code",
   "execution_count": null,
   "metadata": {},
   "outputs": [],
   "source": [
    "categories = []\n",
    "\n",
    "for key in corpus_with_dates:\n",
    "    cats = (list(corpus_with_dates[key].keys()))\n",
    "    categories += [x for x in cats if x not in categories]\n",
    "\n",
    "cat_options = {}\n",
    "for cat in categories:\n",
    "    cat_options[cat] = []\n",
    "    for date in corpus_with_dates.keys():\n",
    "        items = list(corpus_with_dates[date][cat].keys())\n",
    "        cat_options[cat] += [x for x in items if x not in cat_options[cat]]"
   ]
  }
 ],
 "metadata": {
  "kernelspec": {
   "display_name": "base",
   "language": "python",
   "name": "python3"
  },
  "language_info": {
   "name": "python",
   "version": "3.9.13"
  },
  "orig_nbformat": 4,
  "vscode": {
   "interpreter": {
    "hash": "3ed002d011b64fb2ca1d764855bb34dbdfa90a1fb674ecf6fd7747efd8499903"
   }
  }
 },
 "nbformat": 4,
 "nbformat_minor": 2
}
